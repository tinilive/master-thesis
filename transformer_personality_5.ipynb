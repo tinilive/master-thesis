{
 "cells": [
  {
   "cell_type": "code",
   "execution_count": 1,
   "id": "3cacef10-26b0-42be-a0d4-10aab568ead7",
   "metadata": {},
   "outputs": [],
   "source": [
    "import torch\n",
    "import torch.nn as nn\n",
    "import torch.optim as optim\n",
    "import pandas as pd\n",
    "import sentencepiece as spm\n",
    "from torch.utils.data import Dataset, DataLoader\n",
    "import random"
   ]
  },
  {
   "cell_type": "code",
   "execution_count": 2,
   "id": "6434d2f7-2ff2-4653-b8d3-eee2aad0c21a",
   "metadata": {},
   "outputs": [],
   "source": [
    "VOCAB_SIZE = 40000\n",
    "MAX_LEN = 512\n",
    "BATCH_SIZE = 8\n",
    "EMBED_SIZE = 512\n",
    "HIDDEN_SIZE = 512\n",
    "NUM_HEADS = 16\n",
    "NUM_LAYERS = 5\n",
    "DROPOUT = 0.1\n",
    "EPOCHS = 20\n",
    "OUTPUT_SIZE = 5\n",
    "\n",
    "DEVICE = torch.device(\"cuda\" if torch.cuda.is_available() else \"cpu\")\n",
    "DATASET = 'personality.csv'"
   ]
  },
  {
   "cell_type": "code",
   "execution_count": 3,
   "id": "bf4ee38f-ff8a-46c1-be3e-e23c99d1cb16",
   "metadata": {
    "scrolled": true
   },
   "outputs": [],
   "source": [
    "def lower(inp):\n",
    "    return str(inp).lower()\n",
    "\n",
    "\n",
    "# Train sentencepiece tokenizer\n",
    "def train_tokenizer(data_file, model_prefix, vocab_size=VOCAB_SIZE):\n",
    "    df = pd.read_csv(data_file)\n",
    "    text_data = df.iloc[:, 1].apply(lower).tolist()\n",
    "\n",
    "    with open(\"text_corpus_1.txt\", \"w\", encoding=\"utf-8\") as f:\n",
    "        for line in text_data:\n",
    "            f.write(line + \"\\n\")\n",
    "\n",
    "    spm.SentencePieceTrainer.Train(\n",
    "        input=\"text_corpus_1.txt\",\n",
    "        model_prefix=model_prefix,\n",
    "        vocab_size=vocab_size,\n",
    "    )\n",
    "\n",
    "# Uncomment if train needed\n",
    "# train_tokenizer(DATASET, \"tokenizer1\")"
   ]
  },
  {
   "cell_type": "code",
   "execution_count": 4,
   "id": "ca28d206-c3c6-4975-8b05-64b4b3106862",
   "metadata": {},
   "outputs": [
    {
     "name": "stdout",
     "output_type": "stream",
     "text": [
      "[198, 3, 23, 1278, 3276, 15, 21, 376, 9]\n"
     ]
    }
   ],
   "source": [
    "# Load tokenizer\n",
    "tokenizer = spm.SentencePieceProcessor(model_file=\"tokenizer1.model\")\n",
    "\n",
    "def encode_text(sentence, tokenizer, max_len=50):\n",
    "    tokens = tokenizer.encode(sentence, out_type=int)\n",
    "    tokens = [1] + tokens[:max_len-2] + [2]  # BOS = 1, EOS = 2\n",
    "    return tokens + [0] * (max_len - len(tokens))\n",
    "\n",
    "\n",
    "tokenizer_func = lambda text: encode_text(text, tokenizer, MAX_LEN)\n",
    "\n",
    "print(tokenizer.encode(\"привет. как дела?\",))"
   ]
  },
  {
   "cell_type": "code",
   "execution_count": 5,
   "id": "f1e53990-6cb4-44ef-9469-edba7f271c6e",
   "metadata": {},
   "outputs": [],
   "source": [
    "# Dataset class\n",
    "class TranslationDataset(Dataset):\n",
    "    def __init__(self, csv_file):\n",
    "        df = pd.read_csv(csv_file)\n",
    "        self.text = df.iloc[:, 1].apply(lower).tolist()\n",
    "        df = df.iloc[:, 2:]\n",
    "\n",
    "        # Convert columns O1...O6, ..., N1...N6 into O, ..., N\n",
    "        self.data = pd.DataFrame()\n",
    "        for trait in 'OCEAN':\n",
    "            scores = df[[f'{trait}{x}' for x in range(1, 7)]].sum(axis=1)\n",
    "            self.data[trait] = scores\n",
    "\n",
    "        # Apply z-score normalization\n",
    "        self.data = (self.data - self.data.mean()) / self.data.std()\n",
    "        \n",
    "        print(self.data[::10000])\n",
    "\n",
    "    def __len__(self):\n",
    "        return len(self.text)\n",
    "\n",
    "    def __getitem__(self, idx):\n",
    "        text = self.text[idx]\n",
    "        data = self.data.loc[[idx]].astype(float).values.flatten().tolist()\n",
    "        src_tokens = torch.tensor(tokenizer_func(text), dtype=torch.long), torch.tensor(data)\n",
    "        return src_tokens\n"
   ]
  },
  {
   "cell_type": "code",
   "execution_count": 6,
   "id": "6712139d-328c-4de2-916c-3221de11b081",
   "metadata": {},
   "outputs": [
    {
     "name": "stdout",
     "output_type": "stream",
     "text": [
      "                O         C         E         A         N\n",
      "0        0.371170  0.055268 -0.364486 -0.489272 -2.330357\n",
      "10000   -0.237508  1.186232  0.693082  0.633002 -0.652676\n",
      "20000   -0.034615 -0.809587  0.995244 -1.910819  0.046358\n",
      "30000    1.689975 -0.743060 -1.119892  1.381185 -0.233255\n",
      "40000   -1.353420 -0.743060 -0.137864 -0.489272  0.745392\n",
      "...           ...       ...       ...       ...       ...\n",
      "1090000  2.095761  1.784978  0.617541  1.306367 -3.169198\n",
      "1100000  0.269724 -0.476951 -1.195432 -1.087818  0.325972\n",
      "1110000  0.269724 -0.476951 -1.195432 -1.087818  0.325972\n",
      "1120000  0.675510  0.454432  2.808218 -0.040362  0.745392\n",
      "1130000 -0.034615  1.053177 -0.137864  1.081912 -0.862386\n",
      "\n",
      "[114 rows x 5 columns]\n"
     ]
    }
   ],
   "source": [
    "# Create dataloader\n",
    "train_dataset = TranslationDataset(DATASET)\n",
    "train_loader = DataLoader(train_dataset, batch_size=BATCH_SIZE, shuffle=True)\n"
   ]
  },
  {
   "cell_type": "code",
   "execution_count": 7,
   "id": "612c7230-0157-4b4e-934c-5a1292d80aac",
   "metadata": {},
   "outputs": [
    {
     "data": {
      "text/plain": [
       "(tensor([    1,     5,   839, 14276,  1884,   112,     7,  1357,    11,  1075,\n",
       "          3953,     5,    10,   953,  8533,     7,     8,  7110,   112,     2,\n",
       "             0,     0,     0,     0,     0,     0,     0,     0,     0,     0,\n",
       "             0,     0,     0,     0,     0,     0,     0,     0,     0,     0,\n",
       "             0,     0,     0,     0,     0,     0,     0,     0,     0,     0,\n",
       "             0,     0,     0,     0,     0,     0,     0,     0,     0,     0,\n",
       "             0,     0,     0,     0,     0,     0,     0,     0,     0,     0,\n",
       "             0,     0,     0,     0,     0,     0,     0,     0,     0,     0,\n",
       "             0,     0,     0,     0,     0,     0,     0,     0,     0,     0,\n",
       "             0,     0,     0,     0,     0,     0,     0,     0,     0,     0,\n",
       "             0,     0,     0,     0,     0,     0,     0,     0,     0,     0,\n",
       "             0,     0,     0,     0,     0,     0,     0,     0,     0,     0,\n",
       "             0,     0,     0,     0,     0,     0,     0,     0,     0,     0,\n",
       "             0,     0,     0,     0,     0,     0,     0,     0,     0,     0,\n",
       "             0,     0,     0,     0,     0,     0,     0,     0,     0,     0,\n",
       "             0,     0,     0,     0,     0,     0,     0,     0,     0,     0,\n",
       "             0,     0,     0,     0,     0,     0,     0,     0,     0,     0,\n",
       "             0,     0,     0,     0,     0,     0,     0,     0,     0,     0,\n",
       "             0,     0,     0,     0,     0,     0,     0,     0,     0,     0,\n",
       "             0,     0,     0,     0,     0,     0,     0,     0,     0,     0,\n",
       "             0,     0,     0,     0,     0,     0,     0,     0,     0,     0,\n",
       "             0,     0,     0,     0,     0,     0,     0,     0,     0,     0,\n",
       "             0,     0,     0,     0,     0,     0,     0,     0,     0,     0,\n",
       "             0,     0,     0,     0,     0,     0,     0,     0,     0,     0,\n",
       "             0,     0,     0,     0,     0,     0,     0,     0,     0,     0,\n",
       "             0,     0,     0,     0,     0,     0,     0,     0,     0,     0,\n",
       "             0,     0,     0,     0,     0,     0,     0,     0,     0,     0,\n",
       "             0,     0,     0,     0,     0,     0,     0,     0,     0,     0,\n",
       "             0,     0,     0,     0,     0,     0,     0,     0,     0,     0,\n",
       "             0,     0,     0,     0,     0,     0,     0,     0,     0,     0,\n",
       "             0,     0,     0,     0,     0,     0,     0,     0,     0,     0,\n",
       "             0,     0,     0,     0,     0,     0,     0,     0,     0,     0,\n",
       "             0,     0,     0,     0,     0,     0,     0,     0,     0,     0,\n",
       "             0,     0,     0,     0,     0,     0,     0,     0,     0,     0,\n",
       "             0,     0,     0,     0,     0,     0,     0,     0,     0,     0,\n",
       "             0,     0,     0,     0,     0,     0,     0,     0,     0,     0,\n",
       "             0,     0,     0,     0,     0,     0,     0,     0,     0,     0,\n",
       "             0,     0,     0,     0,     0,     0,     0,     0,     0,     0,\n",
       "             0,     0,     0,     0,     0,     0,     0,     0,     0,     0,\n",
       "             0,     0,     0,     0,     0,     0,     0,     0,     0,     0,\n",
       "             0,     0,     0,     0,     0,     0,     0,     0,     0,     0,\n",
       "             0,     0,     0,     0,     0,     0,     0,     0,     0,     0,\n",
       "             0,     0,     0,     0,     0,     0,     0,     0,     0,     0,\n",
       "             0,     0,     0,     0,     0,     0,     0,     0,     0,     0,\n",
       "             0,     0,     0,     0,     0,     0,     0,     0,     0,     0,\n",
       "             0,     0,     0,     0,     0,     0,     0,     0,     0,     0,\n",
       "             0,     0,     0,     0,     0,     0,     0,     0,     0,     0,\n",
       "             0,     0,     0,     0,     0,     0,     0,     0,     0,     0,\n",
       "             0,     0,     0,     0,     0,     0,     0,     0,     0,     0,\n",
       "             0,     0,     0,     0,     0,     0,     0,     0,     0,     0,\n",
       "             0,     0,     0,     0,     0,     0,     0,     0,     0,     0,\n",
       "             0,     0]),\n",
       " tensor([-1.2520, -0.2108, -0.6666, -1.2375,  0.3260]))"
      ]
     },
     "execution_count": 7,
     "metadata": {},
     "output_type": "execute_result"
    }
   ],
   "source": [
    "train_dataset.__getitem__(3900)"
   ]
  },
  {
   "cell_type": "code",
   "execution_count": 8,
   "id": "f871cdb9-3e4c-44a9-8b51-af1bc7e66ef8",
   "metadata": {},
   "outputs": [],
   "source": [
    "import torch.nn as nn"
   ]
  },
  {
   "cell_type": "code",
   "execution_count": 9,
   "id": "15a7990d-1197-463b-a412-9fad8c7fbfb5",
   "metadata": {},
   "outputs": [],
   "source": [
    "class PersonalityAnalyzer(nn.Module):\n",
    "    def __init__(\n",
    "        self,\n",
    "        vocab_size,  # Size of the vocabulary\n",
    "        model_dim,  # Dimension of embeddings and hidden layers\n",
    "        num_attention_heads,  # Number of attention heads in each Transformer layer\n",
    "        num_encoder_layers,  # Number of stacked Transformer encoder layers\n",
    "        feedforward_dim,  # Hidden layer size in the feedforward network\n",
    "        max_sequence_length,  # Maximum input sequence length\n",
    "        dropout_prob=0.2,  # Dropout probability\n",
    "        output_size=5,  # Final output size (5 neurons by default)\n",
    "    ):\n",
    "        super().__init__()\n",
    "\n",
    "        # Embedding layers for token and position encodings\n",
    "        self.token_embedding = nn.Embedding(vocab_size, model_dim)\n",
    "        self.position_embedding = nn.Embedding(max_sequence_length, model_dim)\n",
    "        self.embedding_dropout = nn.Dropout(dropout_prob)\n",
    "\n",
    "        # Transformer encoder layers\n",
    "        encoder_layer = nn.TransformerEncoderLayer(\n",
    "            d_model=model_dim,\n",
    "            nhead=num_attention_heads,\n",
    "            dim_feedforward=feedforward_dim,\n",
    "            dropout=dropout_prob,\n",
    "            batch_first=True,\n",
    "        )\n",
    "        self.encoder = nn.TransformerEncoder(encoder_layer, num_encoder_layers)\n",
    "\n",
    "        # Pooling layer to aggregate sequence output\n",
    "        self.pooling = nn.AdaptiveAvgPool1d(1)  # Global average pooling over time dimension\n",
    "        #self.pooling_dropout = nn.Dropout(0.2)\n",
    "\n",
    "        # Final fully connected layer with N output neurons\n",
    "        self.fc_out = nn.Linear(model_dim, output_size)\n",
    "\n",
    "    def forward(self, input_tokens):\n",
    "        batch_size, seq_len = input_tokens.shape\n",
    "\n",
    "        # Create position indices and embed them\n",
    "        positions = torch.arange(seq_len, device=input_tokens.device).unsqueeze(0).expand(batch_size, seq_len)\n",
    "        token_embeddings = self.token_embedding(input_tokens)\n",
    "        position_embeddings = self.position_embedding(positions)\n",
    "\n",
    "        # Add embeddings and apply dropout\n",
    "        x = self.embedding_dropout(token_embeddings + position_embeddings)\n",
    "\n",
    "        # Pass through Transformer encoder\n",
    "        encoded_output = self.encoder(x)\n",
    "\n",
    "        # Pooling across sequence length to get a single vector per sample\n",
    "        pooled_output = self.pooling(encoded_output.permute(0, 2, 1)).squeeze(-1)\n",
    "        #pooled_output = self.pooling_dropout(pooled_output)\n",
    "\n",
    "        # Final projection to N neurons\n",
    "        output = self.fc_out(pooled_output)\n",
    "\n",
    "        return output"
   ]
  },
  {
   "cell_type": "code",
   "execution_count": 10,
   "id": "ac32f7b0-758d-45e6-8840-c3f318438dbf",
   "metadata": {},
   "outputs": [
    {
     "data": {
      "text/plain": [
       "PersonalityAnalyzer(\n",
       "  (token_embedding): Embedding(40000, 512)\n",
       "  (position_embedding): Embedding(512, 512)\n",
       "  (embedding_dropout): Dropout(p=0.1, inplace=False)\n",
       "  (encoder): TransformerEncoder(\n",
       "    (layers): ModuleList(\n",
       "      (0-4): 5 x TransformerEncoderLayer(\n",
       "        (self_attn): MultiheadAttention(\n",
       "          (out_proj): NonDynamicallyQuantizableLinear(in_features=512, out_features=512, bias=True)\n",
       "        )\n",
       "        (linear1): Linear(in_features=512, out_features=512, bias=True)\n",
       "        (dropout): Dropout(p=0.1, inplace=False)\n",
       "        (linear2): Linear(in_features=512, out_features=512, bias=True)\n",
       "        (norm1): LayerNorm((512,), eps=1e-05, elementwise_affine=True)\n",
       "        (norm2): LayerNorm((512,), eps=1e-05, elementwise_affine=True)\n",
       "        (dropout1): Dropout(p=0.1, inplace=False)\n",
       "        (dropout2): Dropout(p=0.1, inplace=False)\n",
       "      )\n",
       "    )\n",
       "  )\n",
       "  (pooling): AdaptiveAvgPool1d(output_size=1)\n",
       "  (fc_out): Linear(in_features=512, out_features=5, bias=True)\n",
       ")"
      ]
     },
     "execution_count": 10,
     "metadata": {},
     "output_type": "execute_result"
    }
   ],
   "source": [
    "device = torch.device(\"cuda\" if torch.cuda.is_available() else \"cpu\")\n",
    "\n",
    "model = PersonalityAnalyzer(\n",
    "    VOCAB_SIZE,\n",
    "    EMBED_SIZE,\n",
    "    NUM_HEADS,\n",
    "    NUM_LAYERS,\n",
    "    HIDDEN_SIZE,\n",
    "    MAX_LEN,\n",
    "    DROPOUT,\n",
    "    OUTPUT_SIZE,\n",
    ").to(device)\n",
    "model"
   ]
  },
  {
   "cell_type": "code",
   "execution_count": 11,
   "id": "07c8e888-5af9-413c-a99a-23f24792ba34",
   "metadata": {},
   "outputs": [
    {
     "data": {
      "text/plain": [
       "tensor(0.)"
      ]
     },
     "execution_count": 11,
     "metadata": {},
     "output_type": "execute_result"
    }
   ],
   "source": [
    "# Initialize weights for model\n",
    "import torch.nn.init as init\n",
    "\n",
    "def init_weights(m):\n",
    "    if isinstance(m, nn.Linear):\n",
    "        init.xavier_normal_(m.weight)\n",
    "        if m.bias is not None:\n",
    "            init.zeros_(m.bias)\n",
    "\n",
    "model.apply(init_weights)\n",
    "\n",
    "torch.nn.utils.clip_grad_norm_(model.parameters(), max_norm=1.0)"
   ]
  },
  {
   "cell_type": "code",
   "execution_count": 12,
   "id": "d98054f8-37f5-4056-8e87-afdb4ad4bef1",
   "metadata": {},
   "outputs": [],
   "source": [
    "#optimizer = torch.optim.Adam(model.parameters(), lr=3e-5)\n",
    "optimizer = torch.optim.AdamW(model.parameters(), lr=3e-5, weight_decay=1e-6)\n",
    "scheduler = torch.optim.lr_scheduler.StepLR(optimizer, step_size=2, gamma=0.8)\n",
    "\n",
    "# Different loss strategies have been tested\n",
    "#criterion = nn.MSELoss()\n",
    "#criterion = nn.SmoothL1Loss()\n",
    "criterion = nn.L1Loss()"
   ]
  },
  {
   "cell_type": "code",
   "execution_count": 13,
   "id": "72f4aa5a-58c9-4fdf-8ad8-35a1b3aea6f0",
   "metadata": {
    "scrolled": true
   },
   "outputs": [
    {
     "name": "stdout",
     "output_type": "stream",
     "text": [
      "28,634,629 total parameters.\n",
      "28,634,629 training parameters.\n",
      "\n"
     ]
    }
   ],
   "source": [
    "# Total parameters and trainable parameters.\n",
    "total_params = sum(p.numel() for p in model.parameters())\n",
    "print(f\"{total_params:,} total parameters.\")\n",
    "total_trainable_params = sum(\n",
    "    p.numel() for p in model.parameters() if p.requires_grad)\n",
    "print(f\"{total_trainable_params:,} training parameters.\\n\")"
   ]
  },
  {
   "cell_type": "code",
   "execution_count": 19,
   "id": "bdc1b825-6a9f-4359-8866-6435b255e4b2",
   "metadata": {},
   "outputs": [],
   "source": [
    "def calculate_traits_for_text(text):\n",
    "    with torch.no_grad():\n",
    "        score = model(torch.tensor(tokenizer_func(text)).unsqueeze(0).to(device))\n",
    "    return score.cpu().detach().numpy()[0]\n",
    "\n",
    "# Predict output for test samples and display\n",
    "def test_model(model, samples=None):\n",
    "    model.eval()\n",
    "\n",
    "    cols = [\n",
    "        \"Открытость опыту\",\n",
    "        \"Рассудительность\",\n",
    "        \"Экстраверсия\",\n",
    "        \"Доброжелательность\",\n",
    "        \"Нейротизм\",\n",
    "    ]\n",
    "    ans = pd.DataFrame(cols)\n",
    "\n",
    "    if samples is None:\n",
    "        samples = ['😂', '🥺', '❤️', 'всем привет', 'всем привет!', 'всем привет)', 'мне плохо(']\n",
    "    \n",
    "    for sample in samples:\n",
    "        traits = calculate_traits_for_text(sample)\n",
    "        ans[sample] = pd.Series(traits)\n",
    "\n",
    "    display(ans)"
   ]
  },
  {
   "cell_type": "markdown",
   "id": "c195a34f-3468-4129-96bf-fd32c1167f31",
   "metadata": {},
   "source": [
    "## Training"
   ]
  },
  {
   "cell_type": "code",
   "execution_count": 15,
   "id": "f03831a0-386a-4894-8cd7-e7855de2b329",
   "metadata": {},
   "outputs": [
    {
     "data": {
      "image/png": "[encoded data removed]",
      "text/plain": [
       "<Figure size 640x480 with 1 Axes>"
      ]
     },
     "metadata": {},
     "output_type": "display_data"
    },
    {
     "name": "stdout",
     "output_type": "stream",
     "text": [
      "Epoch [7/20]\n",
      "E [54.3%] 77232/142128\n",
      "T [32.7%] 930000/2842560\n",
      "Mean loss: 0.7128288179636002\n"
     ]
    },
    {
     "data": {
      "text/html": [
       "<div>\n",
       "<style scoped>\n",
       "    .dataframe tbody tr th:only-of-type {\n",
       "        vertical-align: middle;\n",
       "    }\n",
       "\n",
       "    .dataframe tbody tr th {\n",
       "        vertical-align: top;\n",
       "    }\n",
       "\n",
       "    .dataframe thead th {\n",
       "        text-align: right;\n",
       "    }\n",
       "</style>\n",
       "<table border=\"1\" class=\"dataframe\">\n",
       "  <thead>\n",
       "    <tr style=\"text-align: right;\">\n",
       "      <th></th>\n",
       "      <th>0</th>\n",
       "      <th>😂</th>\n",
       "      <th>🥺</th>\n",
       "      <th>❤️</th>\n",
       "      <th>всем привет</th>\n",
       "      <th>всем привет!</th>\n",
       "      <th>всем привет)</th>\n",
       "      <th>мне плохо(</th>\n",
       "    </tr>\n",
       "  </thead>\n",
       "  <tbody>\n",
       "    <tr>\n",
       "      <th>0</th>\n",
       "      <td>Открытость опыту</td>\n",
       "      <td>0.076167</td>\n",
       "      <td>0.016302</td>\n",
       "      <td>0.009877</td>\n",
       "      <td>-0.090604</td>\n",
       "      <td>0.169953</td>\n",
       "      <td>-0.193214</td>\n",
       "      <td>-0.021502</td>\n",
       "    </tr>\n",
       "    <tr>\n",
       "      <th>1</th>\n",
       "      <td>Рассудительность</td>\n",
       "      <td>0.349388</td>\n",
       "      <td>-0.114274</td>\n",
       "      <td>0.022920</td>\n",
       "      <td>-0.105014</td>\n",
       "      <td>0.042750</td>\n",
       "      <td>0.568607</td>\n",
       "      <td>-0.108108</td>\n",
       "    </tr>\n",
       "    <tr>\n",
       "      <th>2</th>\n",
       "      <td>Экстраверсия</td>\n",
       "      <td>0.401684</td>\n",
       "      <td>-0.097621</td>\n",
       "      <td>0.007413</td>\n",
       "      <td>0.001174</td>\n",
       "      <td>0.329990</td>\n",
       "      <td>0.064488</td>\n",
       "      <td>-0.016207</td>\n",
       "    </tr>\n",
       "    <tr>\n",
       "      <th>3</th>\n",
       "      <td>Доброжелательность</td>\n",
       "      <td>0.350798</td>\n",
       "      <td>0.247285</td>\n",
       "      <td>0.040794</td>\n",
       "      <td>0.033423</td>\n",
       "      <td>0.281041</td>\n",
       "      <td>0.469442</td>\n",
       "      <td>-0.007527</td>\n",
       "    </tr>\n",
       "    <tr>\n",
       "      <th>4</th>\n",
       "      <td>Нейротизм</td>\n",
       "      <td>-0.365002</td>\n",
       "      <td>0.227167</td>\n",
       "      <td>-0.150224</td>\n",
       "      <td>-0.032008</td>\n",
       "      <td>-0.188353</td>\n",
       "      <td>-0.999937</td>\n",
       "      <td>0.048228</td>\n",
       "    </tr>\n",
       "  </tbody>\n",
       "</table>\n",
       "</div>"
      ],
      "text/plain": [
       "                    0         😂         🥺        ❤️  всем привет  \\\n",
       "0    Открытость опыту  0.076167  0.016302  0.009877    -0.090604   \n",
       "1    Рассудительность  0.349388 -0.114274  0.022920    -0.105014   \n",
       "2        Экстраверсия  0.401684 -0.097621  0.007413     0.001174   \n",
       "3  Доброжелательность  0.350798  0.247285  0.040794     0.033423   \n",
       "4           Нейротизм -0.365002  0.227167 -0.150224    -0.032008   \n",
       "\n",
       "   всем привет!  всем привет)  мне плохо(  \n",
       "0      0.169953     -0.193214   -0.021502  \n",
       "1      0.042750      0.568607   -0.108108  \n",
       "2      0.329990      0.064488   -0.016207  \n",
       "3      0.281041      0.469442   -0.007527  \n",
       "4     -0.188353     -0.999937    0.048228  "
      ]
     },
     "metadata": {},
     "output_type": "display_data"
    }
   ],
   "source": [
    "from IPython.display import display\n",
    "from IPython.display import clear_output\n",
    "import matplotlib.pyplot as plt\n",
    "import numpy as np\n",
    "import numpy\n",
    "\n",
    "def running_mean(x, N):\n",
    "    cumsum = numpy.cumsum(numpy.insert(x, 0, 0)) \n",
    "    return (cumsum[N:] - cumsum[:-N]) / float(N)\n",
    "\n",
    "\n",
    "def train(model, dataloader, optimizer, criterion, device, num_epochs=5, update_freq=100, scheduler=None):\n",
    "    model.train()\n",
    "    model.to(device)\n",
    "\n",
    "    loss_history = []  # Store loss values for plotting\n",
    "    step_losses = []  # Track loss for every update_freq iterations\n",
    "    global_step = 0\n",
    "\n",
    "    for epoch in range(num_epochs):\n",
    "        total_loss = 0\n",
    "        epochs = num_epochs\n",
    "        local_step = 0\n",
    "\n",
    "        for i, (text, traits) in enumerate(dataloader):\n",
    "            optimizer.zero_grad()\n",
    "            inputs = text.to(device)\n",
    "            targets = traits.to(device).float()\n",
    "\n",
    "            logits = model(inputs)\n",
    "            loss = criterion(logits, targets)\n",
    "\n",
    "            loss.backward()\n",
    "            optimizer.step()\n",
    "\n",
    "            total_loss += loss.item()\n",
    "            step_losses.append(loss.item())\n",
    "            global_step += 1\n",
    "            local_step += 1\n",
    "\n",
    "            # 🔥 Update graph every `update_freq` iterations\n",
    "            if global_step % update_freq == 0:\n",
    "                avg_loss = total_loss / len(dataloader)\n",
    "                clear_output(wait=True)\n",
    "\n",
    "                # Plot loss graph\n",
    "                plt.plot(running_mean(step_losses, 100),\n",
    "                         linestyle='-',\n",
    "                         color='b')\n",
    "                plt.xlabel(f\"Iterations (x{update_freq})\")\n",
    "                plt.ylabel(\"Loss\")\n",
    "                plt.title(\"Training Loss Over Time\")\n",
    "                plt.grid()\n",
    "                plt.show()\n",
    "\n",
    "                print(f\"Epoch [{epoch+1}/{epochs}]\")\n",
    "                ls = local_step\n",
    "                ldl = len(dataloader)\n",
    "                print(f\"E [{round(ls/ldl*100,1)}%] {ls}/{ldl}\")\n",
    "                print(f\"T [{round(global_step/(ldl*epochs)*100,1)}%] {global_step}/{ldl*epochs}\")\n",
    "                last_10_loss = step_losses[-30:]\n",
    "                print(f\"Mean loss: {sum(last_10_loss)/30}\")\n",
    "                test_model(model)\n",
    "                model.train()\n",
    "    \n",
    "        scheduler.step()\n",
    "        avg_loss = total_loss / len(dataloader)\n",
    "        print(f\"Epoch {epoch+1}/{num_epochs}, Loss: {avg_loss:.4f}\")\n",
    "\n",
    "\n",
    "# Train model\n",
    "train(model, train_loader, optimizer, criterion, device, num_epochs=EPOCHS, update_freq=1000, scheduler=scheduler)"
   ]
  },
  {
   "cell_type": "markdown",
   "id": "1a2a01c0-dae3-451d-8143-781c6c75f43b",
   "metadata": {},
   "source": [
    "## Usage"
   ]
  },
  {
   "cell_type": "code",
   "execution_count": 20,
   "id": "9b03ec69-95e5-4281-b403-ac07a64b2526",
   "metadata": {},
   "outputs": [
    {
     "data": {
      "text/plain": [
       "array([ 0.07777058,  0.23663813,  0.19246727,  0.39932284, -0.2505312 ],\n",
       "      dtype=float32)"
      ]
     },
     "execution_count": 20,
     "metadata": {},
     "output_type": "execute_result"
    }
   ],
   "source": [
    "calculate_traits_for_text('всем привет! как у вас дела?')"
   ]
  },
  {
   "cell_type": "markdown",
   "id": "36cbcbc5-56b5-40a1-bab9-1762358aa9a1",
   "metadata": {},
   "source": [
    "## Save/load model"
   ]
  },
  {
   "cell_type": "code",
   "execution_count": 21,
   "id": "7231eece-141a-43a3-8f1a-3799daa8e88b",
   "metadata": {},
   "outputs": [],
   "source": [
    "# Saving the model\n",
    "def save_model(model, optimizer, scheduler, filepath, only_model=False):\n",
    "    torch.save({\n",
    "        'model_state_dict': model.state_dict(),\n",
    "    }, filepath + '.pth')\n",
    "    print(f\"Model saved to {filepath}.pth\")\n",
    "    torch.save({\n",
    "        'model_state_dict': model.state_dict(),\n",
    "        'optimizer_state_dict': optimizer.state_dict(),\n",
    "        'scheduler_state_dict': scheduler.state_dict(),\n",
    "    }, filepath + '_for_training.pth')\n",
    "    print(f\"Model saved to {filepath}_for_training.pth\")\n",
    "\n",
    "# Loading the model\n",
    "def load_model(model, optimizer, scheduler, filepath):\n",
    "    checkpoint = torch.load(filepath)\n",
    "    model.load_state_dict(checkpoint['model_state_dict'])\n",
    "    optimizer.load_state_dict(checkpoint['optimizer_state_dict'])\n",
    "    scheduler.load_state_dict(checkpoint['scheduler_state_dict'])\n",
    "    print(f\"Model loaded from {filepath}\")\n",
    "\n",
    "def load_model_only(model, filepath):\n",
    "    checkpoint = torch.load(filepath)\n",
    "    model.load_state_dict(checkpoint['model_state_dict'])\n",
    "    print(f\"Model loaded from {filepath}\")"
   ]
  },
  {
   "cell_type": "code",
   "execution_count": 22,
   "id": "ec03cde8-49bf-4a7f-929e-64fd89364f41",
   "metadata": {},
   "outputs": [
    {
     "name": "stdout",
     "output_type": "stream",
     "text": [
      "Model saved to personality_5.pth\n",
      "Model saved to personality_5_for_training.pth\n"
     ]
    }
   ],
   "source": [
    "save_model(model, optimizer, scheduler, 'personality_5')"
   ]
  },
  {
   "cell_type": "code",
   "execution_count": 23,
   "id": "28463c8e-645f-4600-96bb-f6d5fd2b74a9",
   "metadata": {},
   "outputs": [],
   "source": [
    "# load_model_only(model, 'model/personality_5.pth')"
   ]
  },
  {
   "cell_type": "code",
   "execution_count": null,
   "id": "ec103c30-5eeb-4019-84cf-6c59cea5d45d",
   "metadata": {},
   "outputs": [],
   "source": []
  },
  {
   "cell_type": "code",
   "execution_count": null,
   "id": "f1064fc1-c001-4c05-9971-d828102c2ebe",
   "metadata": {},
   "outputs": [],
   "source": []
  },
  {
   "cell_type": "code",
   "execution_count": null,
   "id": "8da2deda-f99e-4fcc-bbcf-178616c8b5f4",
   "metadata": {},
   "outputs": [],
   "source": []
  },
  {
   "cell_type": "code",
   "execution_count": null,
   "id": "13be70ef-fb5a-4d28-97cf-d8330a2a3f8c",
   "metadata": {},
   "outputs": [],
   "source": []
  },
  {
   "cell_type": "code",
   "execution_count": null,
   "id": "90aa5a87-464e-465f-b49d-c8a264c63ccf",
   "metadata": {},
   "outputs": [],
   "source": []
  },
  {
   "cell_type": "code",
   "execution_count": null,
   "id": "a2be11c2-a4bb-4a53-8e74-e298c10ec1db",
   "metadata": {},
   "outputs": [],
   "source": []
  },
  {
   "cell_type": "code",
   "execution_count": null,
   "id": "54c170b5-3712-4ddb-817f-8ab7f5195759",
   "metadata": {},
   "outputs": [],
   "source": []
  },
  {
   "cell_type": "code",
   "execution_count": null,
   "id": "a950168f-c362-49e8-b47a-65b7403891b6",
   "metadata": {},
   "outputs": [],
   "source": []
  },
  {
   "cell_type": "code",
   "execution_count": null,
   "id": "0b18db0f-20eb-446c-9854-5d1a515a648c",
   "metadata": {},
   "outputs": [],
   "source": []
  },
  {
   "cell_type": "code",
   "execution_count": null,
   "id": "37a1896f-a6dd-4fab-bc34-9b02cb3b2723",
   "metadata": {},
   "outputs": [],
   "source": []
  },
  {
   "cell_type": "code",
   "execution_count": null,
   "id": "f4da32fb-bfd9-42df-b017-0da876830e1d",
   "metadata": {},
   "outputs": [],
   "source": []
  },
  {
   "cell_type": "code",
   "execution_count": null,
   "id": "9428d7d0-c713-4b0e-870d-02777f2a71df",
   "metadata": {},
   "outputs": [],
   "source": []
  },
  {
   "cell_type": "code",
   "execution_count": null,
   "id": "fd51551b-8c13-4add-8d7b-6e43bea38490",
   "metadata": {},
   "outputs": [],
   "source": []
  },
  {
   "cell_type": "code",
   "execution_count": null,
   "id": "063f201b-ddc0-44fc-8b47-2675fd33a462",
   "metadata": {},
   "outputs": [],
   "source": []
  },
  {
   "cell_type": "code",
   "execution_count": null,
   "id": "7019eca4-7c60-42d4-b1c6-fc15bc487eb5",
   "metadata": {},
   "outputs": [],
   "source": []
  },
  {
   "cell_type": "code",
   "execution_count": null,
   "id": "a03bc3a0-0ca4-477d-adba-21c68d246050",
   "metadata": {},
   "outputs": [],
   "source": []
  },
  {
   "cell_type": "code",
   "execution_count": null,
   "id": "c2dd8bc1-dba0-477d-9479-d6a9ea93ce47",
   "metadata": {},
   "outputs": [],
   "source": []
  },
  {
   "cell_type": "code",
   "execution_count": null,
   "id": "f8247563-dfd9-40ce-be1d-50dacd51e6ff",
   "metadata": {},
   "outputs": [],
   "source": []
  },
  {
   "cell_type": "code",
   "execution_count": null,
   "id": "cda33a35-2eb6-4a7a-990e-c5fe5ff54079",
   "metadata": {},
   "outputs": [],
   "source": []
  },
  {
   "cell_type": "code",
   "execution_count": null,
   "id": "43228788-cf1e-46bc-bee4-6fda72aad5a0",
   "metadata": {},
   "outputs": [],
   "source": []
  },
  {
   "cell_type": "code",
   "execution_count": null,
   "id": "b42bdfca-424c-458b-b14d-92de46368114",
   "metadata": {},
   "outputs": [],
   "source": []
  },
  {
   "cell_type": "code",
   "execution_count": null,
   "id": "5cf2aff8-711c-4fe7-88d7-1e4c11a81349",
   "metadata": {},
   "outputs": [],
   "source": []
  },
  {
   "cell_type": "code",
   "execution_count": null,
   "id": "01d08ec4-92f6-4f20-bdbb-cf130884dc43",
   "metadata": {},
   "outputs": [],
   "source": []
  },
  {
   "cell_type": "code",
   "execution_count": null,
   "id": "3b3405c8-a661-4d37-88a9-cae5adcd8a45",
   "metadata": {},
   "outputs": [],
   "source": []
  },
  {
   "cell_type": "code",
   "execution_count": null,
   "id": "961d4891-c44d-461f-9b25-c1a22f0f4a4a",
   "metadata": {},
   "outputs": [],
   "source": []
  },
  {
   "cell_type": "code",
   "execution_count": null,
   "id": "d5d3341e-4046-4c2e-b4ba-f867be451cde",
   "metadata": {},
   "outputs": [],
   "source": []
  },
  {
   "cell_type": "code",
   "execution_count": null,
   "id": "fd9e9656-cba9-4998-ada1-7f58232a6a16",
   "metadata": {},
   "outputs": [],
   "source": []
  }
 ],
 "metadata": {
  "kernelspec": {
   "display_name": "Python 3 (ipykernel)",
   "language": "python",
   "name": "python3"
  },
  "language_info": {
   "codemirror_mode": {
    "name": "ipython",
    "version": 3
   },
   "file_extension": ".py",
   "mimetype": "text/x-python",
   "name": "python",
   "nbconvert_exporter": "python",
   "pygments_lexer": "ipython3",
   "version": "3.11.2"
  }
 },
 "nbformat": 4,
 "nbformat_minor": 5
}
